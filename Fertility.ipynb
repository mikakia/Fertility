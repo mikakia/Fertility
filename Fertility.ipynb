{
  "nbformat": 4,
  "nbformat_minor": 0,
  "metadata": {
    "colab": {
      "provenance": [],
      "collapsed_sections": [
        "qSpkqo70vXcL",
        "TCwO62Ez01IY"
      ],
      "authorship_tag": "ABX9TyPKpuz7ZoZFcanTskqb4bKL",
      "include_colab_link": true
    },
    "kernelspec": {
      "name": "python3",
      "display_name": "Python 3"
    },
    "language_info": {
      "name": "python"
    }
  },
  "cells": [
    {
      "cell_type": "markdown",
      "metadata": {
        "id": "view-in-github",
        "colab_type": "text"
      },
      "source": [
        "<a href=\"https://colab.research.google.com/github/mikakia/Fertility/blob/main/Fertility.ipynb\" target=\"_parent\"><img src=\"https://colab.research.google.com/assets/colab-badge.svg\" alt=\"Open In Colab\"/></a>"
      ]
    },
    {
      "cell_type": "markdown",
      "source": [
        "#Imports"
      ],
      "metadata": {
        "id": "B7yUzQZsEaCD"
      }
    },
    {
      "cell_type": "code",
      "execution_count": null,
      "metadata": {
        "id": "yqE7NGHSEQ3G"
      },
      "outputs": [],
      "source": [
        "import pandas as pd\n",
        "import pandas as pd\n",
        "import numpy as np\n",
        "import matplotlib.pyplot as plt\n",
        "\n",
        "import  missingno as msno\n",
        "\n",
        "import seaborn as sns\n",
        "from sklearn.preprocessing import LabelEncoder, OneHotEncoder\n",
        "from sklearn.preprocessing import MinMaxScaler, StandardScaler\n",
        "from sklearn.datasets import make_classification, make_regression\n",
        "from sklearn.model_selection import train_test_split\n",
        "from sklearn.tree import DecisionTreeClassifier\n",
        "from sklearn.linear_model import LogisticRegression\n",
        "from sklearn.svm import LinearSVC, SVC, NuSVC\n",
        "from sklearn.neighbors import KNeighborsClassifier\n",
        "from sklearn.ensemble import RandomForestClassifier\n",
        "from sklearn.metrics import classification_report, confusion_matrix, accuracy_score\n",
        "from sklearn.ensemble import GradientBoostingClassifier\n",
        "from sklearn.decomposition import PCA\n",
        "from imblearn.over_sampling import SMOTE\n",
        "\n",
        "from xgboost import XGBClassifier\n",
        "from sklearn.neural_network import MLPClassifier"
      ]
    },
    {
      "cell_type": "markdown",
      "source": [
        "\n",
        "\n",
        "\n",
        "#Exploring dataset - Preprocessing"
      ],
      "metadata": {
        "id": "1_nN6UJ1Qj6k"
      }
    },
    {
      "cell_type": "code",
      "source": [
        "url = \"https://raw.githubusercontent.com/mikakia/Fertility/main/fertilitydataset.txt\"\n",
        "df = pd.read_csv(url, sep=\",\",header=None,\n",
        "                 names=[\"season\", \"age\", \"childish_diseases\", \"accident_trauma\",\"sergical_intervention\",\n",
        "                        \"fever\",\"alcohol_freq\",\"smoking\",\"hours_sitting\",\"diagnosis\"]\n",
        "                 )\n",
        "df"
      ],
      "metadata": {
        "id": "t2Tp_PiOF5Ps"
      },
      "execution_count": null,
      "outputs": []
    },
    {
      "cell_type": "code",
      "source": [
        "df.info()"
      ],
      "metadata": {
        "id": "a7otiCc3QqMx"
      },
      "execution_count": null,
      "outputs": []
    },
    {
      "cell_type": "code",
      "source": [
        "df.isnull().sum()"
      ],
      "metadata": {
        "id": "2Xh2BcBWRZti"
      },
      "execution_count": null,
      "outputs": []
    },
    {
      "cell_type": "code",
      "source": [
        "df.describe()"
      ],
      "metadata": {
        "id": "63O8sieiRhwS"
      },
      "execution_count": null,
      "outputs": []
    },
    {
      "cell_type": "code",
      "source": [
        "df.corr(numeric_only=True)"
      ],
      "metadata": {
        "id": "MGk-5h1URpzM"
      },
      "execution_count": null,
      "outputs": []
    },
    {
      "cell_type": "code",
      "source": [
        "#Pairplots\n",
        "numeric_cols = [\"season\", \"age\", \"childish_diseases\", \"accident_trauma\",\"sergical_intervention\",\"fever\",\"alcohol_freq\",\"smoking\",\"hours_sitting\"]\n",
        "\n",
        "sns.pairplot(df, vars=numeric_cols, hue='diagnosis', diag_kind='hist', palette='Set1')\n",
        "plt.show()"
      ],
      "metadata": {
        "id": "lhAXOuY2SItf"
      },
      "execution_count": null,
      "outputs": []
    },
    {
      "cell_type": "code",
      "source": [
        "# 0-> Normal (N), 1-> Altered(O)\n",
        "df['diagnosis'] = LabelEncoder().fit_transform(df['diagnosis'])\n",
        "df.head()"
      ],
      "metadata": {
        "id": "DrtvZ-miStsl"
      },
      "execution_count": null,
      "outputs": []
    },
    {
      "cell_type": "code",
      "source": [
        "df['diagnosis'].value_counts()"
      ],
      "metadata": {
        "id": "q2AV5UDCiVMJ"
      },
      "execution_count": null,
      "outputs": []
    },
    {
      "cell_type": "markdown",
      "source": [
        "#Training and Test Phase"
      ],
      "metadata": {
        "id": "dk_OnCVSeau9"
      }
    },
    {
      "cell_type": "code",
      "source": [
        "X = df.drop('diagnosis', axis=1)  # all features\n",
        "y = df['diagnosis']               # target"
      ],
      "metadata": {
        "id": "cN-M75OhcM_v"
      },
      "execution_count": null,
      "outputs": []
    },
    {
      "cell_type": "code",
      "source": [
        "X_train, X_test, y_train, y_test = train_test_split(X, y, test_size=0.2, random_state=42, stratify=y)"
      ],
      "metadata": {
        "id": "blLMZ_ahg6v7"
      },
      "execution_count": null,
      "outputs": []
    },
    {
      "cell_type": "code",
      "source": [
        "#smooth imbalanced data with SMOT\n",
        "sm = SMOTE(random_state=42)\n",
        "X_train_res, y_train_res = sm.fit_resample(X_train, y_train)"
      ],
      "metadata": {
        "id": "CwqZPALBuMe_"
      },
      "execution_count": null,
      "outputs": []
    },
    {
      "cell_type": "markdown",
      "source": [
        "##Logistic Regression\n",
        "accuracy: 65%"
      ],
      "metadata": {
        "id": "iLiY1_0wg_gI"
      }
    },
    {
      "cell_type": "code",
      "source": [
        "log_reg = LogisticRegression(class_weight='balanced',random_state=42) #using class_weight due to imbalanced data\n",
        "log_reg.fit(X_train, y_train)"
      ],
      "metadata": {
        "id": "WRRTzUweg-0m"
      },
      "execution_count": null,
      "outputs": []
    },
    {
      "cell_type": "code",
      "source": [
        "y_pred_log = log_reg.predict(X_test)\n",
        "print(\"Accuracy:\", accuracy_score(y_test, y_pred_log))\n",
        "print(\"\\nClassification Report:\\n\", classification_report(y_test, y_pred_log))\n",
        "print(\"\\nConfusion Matrix:\\n\", confusion_matrix(y_test, y_pred_log))"
      ],
      "metadata": {
        "id": "zH6ooQFQhJWj"
      },
      "execution_count": null,
      "outputs": []
    },
    {
      "cell_type": "markdown",
      "source": [
        "##Decision Tree\n",
        "Accuracy: 85%"
      ],
      "metadata": {
        "id": "dKr0Xqw3nzS9"
      }
    },
    {
      "cell_type": "code",
      "source": [
        "des_tree = DecisionTreeClassifier(max_depth=5, min_samples_leaf=5, random_state=42)\n",
        "des_tree.fit(X_train_res, y_train_res)\n"
      ],
      "metadata": {
        "id": "9EXVc-iKphiz"
      },
      "execution_count": null,
      "outputs": []
    },
    {
      "cell_type": "code",
      "source": [
        "y_pred_tree = des_tree.predict(X_test)\n",
        "\n",
        "print(\"Accuracy:\", accuracy_score(y_test, y_pred_tree))\n",
        "print(\"Classification Report:\")\n",
        "print(classification_report(y_test, y_pred_tree))\n",
        "print(\"Confusion Matrix:\")\n",
        "print(confusion_matrix(y_test, y_pred_tree))"
      ],
      "metadata": {
        "id": "2oiuh9vPpokd"
      },
      "execution_count": null,
      "outputs": []
    },
    {
      "cell_type": "code",
      "source": [
        "# 20 predictions\n",
        "for true, y_pred_tree in zip(y_test[:20], y_pred_tree[:20]):\n",
        "    print(f\"True: {true} → Predicted: {y_pred_tree}\")"
      ],
      "metadata": {
        "id": "eD0cgOn54uOu"
      },
      "execution_count": null,
      "outputs": []
    },
    {
      "cell_type": "markdown",
      "source": [
        "##Random Forest\n",
        "Accuracy: 85%"
      ],
      "metadata": {
        "id": "H4HtdMnSs7wY"
      }
    },
    {
      "cell_type": "code",
      "source": [
        "rand_fo = RandomForestClassifier(random_state=42)\n",
        "rand_fo.fit(X_train_res, y_train_res)"
      ],
      "metadata": {
        "id": "WhK_7UFTs7Hc"
      },
      "execution_count": null,
      "outputs": []
    },
    {
      "cell_type": "code",
      "source": [
        "y_pred_rf = rand_fo.predict(X_test)\n",
        "\n",
        "print(\"Accuracy:\", accuracy_score(y_test, y_pred_rf))\n",
        "print(\"Classification Report:\")\n",
        "print(classification_report(y_test, y_pred_rf))\n",
        "print(\"Confusion Matrix:\")\n",
        "print(confusion_matrix(y_test, y_pred_rf))"
      ],
      "metadata": {
        "id": "sq67B4HDteCB"
      },
      "execution_count": null,
      "outputs": []
    },
    {
      "cell_type": "markdown",
      "source": [
        "##Gradient Bossting\n",
        "Accuracy: 85%"
      ],
      "metadata": {
        "id": "qSpkqo70vXcL"
      }
    },
    {
      "cell_type": "code",
      "source": [
        "gb_model = GradientBoostingClassifier(n_estimators=40,learning_rate=0.05,max_depth=3,random_state=42)\n",
        "gb_model.fit(X_train_res, y_train_res)"
      ],
      "metadata": {
        "id": "PAmPe78xvcXi"
      },
      "execution_count": null,
      "outputs": []
    },
    {
      "cell_type": "code",
      "source": [
        "y_pred_gb = gb_model.predict(X_test)\n",
        "\n",
        "print(\"Accuracy:\", accuracy_score(y_test, y_pred_gb))\n",
        "print(\"Classification Report:\\n\", classification_report(y_test, y_pred_gb))\n",
        "print(\"Confusion Matrix:\")\n",
        "print(confusion_matrix(y_test, y_pred_rf))"
      ],
      "metadata": {
        "id": "YiqFn_4QvlTV"
      },
      "execution_count": null,
      "outputs": []
    },
    {
      "cell_type": "markdown",
      "source": [
        "##Neural Network\n",
        "Accuracy: 75%"
      ],
      "metadata": {
        "id": "TCwO62Ez01IY"
      }
    },
    {
      "cell_type": "code",
      "source": [
        "\n",
        "nn_model = MLPClassifier(hidden_layer_sizes=(100,), activation='tanh', max_iter=300, random_state=42)\n",
        "nn_model.fit(X_train_res, y_train_res)"
      ],
      "metadata": {
        "id": "HIjaPvplynSM"
      },
      "execution_count": null,
      "outputs": []
    },
    {
      "cell_type": "code",
      "source": [
        "y_pred_nn = nn_model.predict(X_test)\n",
        "\n",
        "print(\"Accuracy:\", accuracy_score(y_test, y_pred_nn))\n",
        "print(\"Classification Report:\\n\", classification_report(y_test, y_pred_nn))\n",
        "print(\"Confusion Matric\\n\",confusion_matrix(y_test, y_pred_nn))"
      ],
      "metadata": {
        "id": "GlvdFU9TypRc"
      },
      "execution_count": null,
      "outputs": []
    },
    {
      "cell_type": "markdown",
      "source": [
        "##KNN\n",
        "Accuracy: 80%"
      ],
      "metadata": {
        "id": "-CBsygeJ1T-h"
      }
    },
    {
      "cell_type": "code",
      "source": [
        "knn_model = KNeighborsClassifier(n_neighbors=4, metric='manhattan')\n",
        "knn_model.fit(X_train_res, y_train_res)"
      ],
      "metadata": {
        "id": "6MutOo6r1To4"
      },
      "execution_count": null,
      "outputs": []
    },
    {
      "cell_type": "code",
      "source": [
        "y_pred_knn = knn_model.predict(X_test)\n",
        "\n",
        "print(\"Accuracy:\", accuracy_score(y_test, y_pred_knn))\n",
        "print(\"Classification Report:\\n\", classification_report(y_test, y_pred_knn))\n",
        "print(\"Confusion Matric\\n\",confusion_matrix(y_test, y_pred_knn))"
      ],
      "metadata": {
        "id": "GqPwa7Fg2uu6"
      },
      "execution_count": null,
      "outputs": []
    },
    {
      "cell_type": "markdown",
      "source": [
        "###KNN with kfolds\n",
        "Accuracy: 88%"
      ],
      "metadata": {
        "id": "0b_aOFD_neBj"
      }
    },
    {
      "cell_type": "code",
      "source": [
        "from sklearn.model_selection import KFold, cross_val_score,cross_val_predict\n",
        "kf = KFold(n_splits=5, shuffle=True, random_state=42)"
      ],
      "metadata": {
        "id": "twOmaF9Gm8Ua"
      },
      "execution_count": null,
      "outputs": []
    },
    {
      "cell_type": "code",
      "source": [
        "scores = cross_val_score(knn_model, X, y, cv=kf, scoring='accuracy')\n",
        "\n",
        "print(\"Accuracy for each fold:\", scores)\n",
        "print(\"Mean accuracy:\", scores.mean())"
      ],
      "metadata": {
        "id": "LRG2m4ghnQ0C"
      },
      "execution_count": null,
      "outputs": []
    }
  ]
}